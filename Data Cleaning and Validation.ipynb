{
 "cells": [
  {
   "cell_type": "code",
   "execution_count": 1,
   "metadata": {},
   "outputs": [],
   "source": [
    "import pandas as pd"
   ]
  },
  {
   "cell_type": "markdown",
   "metadata": {},
   "source": [
    "Before we begin, I noticed that rows 7422 to 7699 in the original raw data CSV that you sent me contains random information that's not relevant to this data set (things like notes about where the data was from and when the report was produced). This shouldn't be included in the data set. I'd recommend deleting those lines before importing it into pandas. The data that is imported in the next line has had these lines removed."
   ]
  },
  {
   "cell_type": "code",
   "execution_count": 2,
   "metadata": {},
   "outputs": [],
   "source": [
    "df = pd.read_csv('https://raw.githubusercontent.com/jennynz/co2-emissions/master/annual_ghg_data.csv', index_col=0)"
   ]
  },
  {
   "cell_type": "markdown",
   "metadata": {},
   "source": [
    "# Australia 1990 vs 2000\n",
    "\n",
    "To start with, let's just look at Australia's change in CO2 emissions from 1990 to 2000, and why there were issues with subtracting the columns. This will demonstrate the importance of data cleaning (and also how most of data science ends up being cleaning and validating your data!)"
   ]
  },
  {
   "cell_type": "code",
   "execution_count": 3,
   "metadata": {},
   "outputs": [
    {
     "data": {
      "text/html": "<div>\n<style scoped>\n    .dataframe tbody tr th:only-of-type {\n        vertical-align: middle;\n    }\n\n    .dataframe tbody tr th {\n        vertical-align: top;\n    }\n\n    .dataframe thead th {\n        text-align: right;\n    }\n</style>\n<table border=\"1\" class=\"dataframe\">\n  <thead>\n    <tr style=\"text-align: right;\">\n      <th></th>\n      <th>Party</th>\n      <th>Sector</th>\n      <th>Year</th>\n      <th>CO2 emissions (kt)</th>\n    </tr>\n  </thead>\n  <tbody>\n    <tr>\n      <th>0</th>\n      <td>Australia</td>\n      <td>Energy</td>\n      <td>1990</td>\n      <td>259089.0635</td>\n    </tr>\n    <tr>\n      <th>1</th>\n      <td>Australia</td>\n      <td>Energy</td>\n      <td>1991</td>\n      <td>261077.8943</td>\n    </tr>\n    <tr>\n      <th>2</th>\n      <td>Australia</td>\n      <td>Energy</td>\n      <td>1992</td>\n      <td>265636.3056</td>\n    </tr>\n    <tr>\n      <th>3</th>\n      <td>Australia</td>\n      <td>Energy</td>\n      <td>1993</td>\n      <td>269692.6933</td>\n    </tr>\n    <tr>\n      <th>4</th>\n      <td>Australia</td>\n      <td>Energy</td>\n      <td>1994</td>\n      <td>272493.5233</td>\n    </tr>\n    <tr>\n      <th>5</th>\n      <td>Australia</td>\n      <td>Energy</td>\n      <td>1995</td>\n      <td>283546.7993</td>\n    </tr>\n    <tr>\n      <th>6</th>\n      <td>Australia</td>\n      <td>Energy</td>\n      <td>1996</td>\n      <td>290186.9462</td>\n    </tr>\n    <tr>\n      <th>7</th>\n      <td>Australia</td>\n      <td>Energy</td>\n      <td>1997</td>\n      <td>298419.5558</td>\n    </tr>\n    <tr>\n      <th>8</th>\n      <td>Australia</td>\n      <td>Energy</td>\n      <td>1998</td>\n      <td>311658.248</td>\n    </tr>\n    <tr>\n      <th>9</th>\n      <td>Australia</td>\n      <td>Energy</td>\n      <td>1999</td>\n      <td>320154.8441</td>\n    </tr>\n  </tbody>\n</table>\n</div>",
      "text/plain": "       Party  Sector  Year CO2 emissions (kt)\n0  Australia  Energy  1990        259089.0635\n1  Australia  Energy  1991        261077.8943\n2  Australia  Energy  1992        265636.3056\n3  Australia  Energy  1993        269692.6933\n4  Australia  Energy  1994        272493.5233\n5  Australia  Energy  1995        283546.7993\n6  Australia  Energy  1996        290186.9462\n7  Australia  Energy  1997        298419.5558\n8  Australia  Energy  1998         311658.248\n9  Australia  Energy  1999        320154.8441"
     },
     "execution_count": 3,
     "metadata": {},
     "output_type": "execute_result"
    }
   ],
   "source": [
    "# Have a quick look at the first 10 rows\n",
    "df.head(10)"
   ]
  },
  {
   "cell_type": "code",
   "execution_count": 4,
   "metadata": {},
   "outputs": [],
   "source": [
    "# Get the subsets for Australia 1990 and 2000\n",
    "au1990 = df[(df['Party'] == 'Australia') & (df['Year'] == '1990')]\n",
    "au2000 = df[(df['Party'] == 'Australia') & (df['Year'] == '2000')]"
   ]
  },
  {
   "cell_type": "code",
   "execution_count": 5,
   "metadata": {},
   "outputs": [
    {
     "data": {
      "text/plain": [
       "0      NaN\n",
       "10     NaN\n",
       "28     NaN\n",
       "38     NaN\n",
       "56     NaN\n",
       "66     NaN\n",
       "84     NaN\n",
       "94     NaN\n",
       "112    NaN\n",
       "122    NaN\n",
       "140    NaN\n",
       "150    NaN\n",
       "Name: CO2 emissions (kt), dtype: object"
      ]
     },
     "execution_count": 5,
     "metadata": {},
     "output_type": "execute_result"
    }
   ],
   "source": [
    "# Subtract the CO2 emissions of the two subsets from each other\n",
    "au2000['CO2 emissions (kt)'] - au1990['CO2 emissions (kt)']"
   ]
  },
  {
   "cell_type": "markdown",
   "metadata": {},
   "source": [
    "## Data cleaning\n",
    "\n",
    "Oh no, we're getting `NaN` (not a number) values for everything! Let's see what's going on...\n"
   ]
  },
  {
   "cell_type": "markdown",
   "metadata": {},
   "source": [
    "### Setting the index to something more useful"
   ]
  },
  {
   "cell_type": "code",
   "execution_count": 6,
   "metadata": {},
   "outputs": [
    {
     "data": {
      "text/html": [
       "<div>\n",
       "<style scoped>\n",
       "    .dataframe tbody tr th:only-of-type {\n",
       "        vertical-align: middle;\n",
       "    }\n",
       "\n",
       "    .dataframe tbody tr th {\n",
       "        vertical-align: top;\n",
       "    }\n",
       "\n",
       "    .dataframe thead th {\n",
       "        text-align: right;\n",
       "    }\n",
       "</style>\n",
       "<table border=\"1\" class=\"dataframe\">\n",
       "  <thead>\n",
       "    <tr style=\"text-align: right;\">\n",
       "      <th></th>\n",
       "      <th>Party</th>\n",
       "      <th>Sector</th>\n",
       "      <th>Year</th>\n",
       "      <th>CO2 emissions (kt)</th>\n",
       "    </tr>\n",
       "  </thead>\n",
       "  <tbody>\n",
       "    <tr>\n",
       "      <th>0</th>\n",
       "      <td>Australia</td>\n",
       "      <td>Energy</td>\n",
       "      <td>1990</td>\n",
       "      <td>259089.0635</td>\n",
       "    </tr>\n",
       "    <tr>\n",
       "      <th>28</th>\n",
       "      <td>Australia</td>\n",
       "      <td>Industrial Processes and Product Use</td>\n",
       "      <td>1990</td>\n",
       "      <td>18679.93852</td>\n",
       "    </tr>\n",
       "    <tr>\n",
       "      <th>56</th>\n",
       "      <td>Australia</td>\n",
       "      <td>Agriculture</td>\n",
       "      <td>1990</td>\n",
       "      <td>582.0132094</td>\n",
       "    </tr>\n",
       "    <tr>\n",
       "      <th>84</th>\n",
       "      <td>Australia</td>\n",
       "      <td>Land Use LandUse Change and Forestry</td>\n",
       "      <td>1990</td>\n",
       "      <td>165522.8783</td>\n",
       "    </tr>\n",
       "    <tr>\n",
       "      <th>112</th>\n",
       "      <td>Australia</td>\n",
       "      <td>Waste</td>\n",
       "      <td>1990</td>\n",
       "      <td>73.36044861</td>\n",
       "    </tr>\n",
       "    <tr>\n",
       "      <th>140</th>\n",
       "      <td>Australia</td>\n",
       "      <td>Other</td>\n",
       "      <td>1990</td>\n",
       "      <td>NO</td>\n",
       "    </tr>\n",
       "  </tbody>\n",
       "</table>\n",
       "</div>"
      ],
      "text/plain": [
       "         Party                                Sector  Year CO2 emissions (kt)\n",
       "0    Australia                                Energy  1990        259089.0635\n",
       "28   Australia  Industrial Processes and Product Use  1990        18679.93852\n",
       "56   Australia                           Agriculture  1990        582.0132094\n",
       "84   Australia  Land Use LandUse Change and Forestry  1990        165522.8783\n",
       "112  Australia                                 Waste  1990        73.36044861\n",
       "140  Australia                                 Other  1990                 NO"
      ]
     },
     "execution_count": 6,
     "metadata": {},
     "output_type": "execute_result"
    }
   ],
   "source": [
    "au1990"
   ]
  },
  {
   "cell_type": "code",
   "execution_count": 7,
   "metadata": {},
   "outputs": [
    {
     "data": {
      "text/html": [
       "<div>\n",
       "<style scoped>\n",
       "    .dataframe tbody tr th:only-of-type {\n",
       "        vertical-align: middle;\n",
       "    }\n",
       "\n",
       "    .dataframe tbody tr th {\n",
       "        vertical-align: top;\n",
       "    }\n",
       "\n",
       "    .dataframe thead th {\n",
       "        text-align: right;\n",
       "    }\n",
       "</style>\n",
       "<table border=\"1\" class=\"dataframe\">\n",
       "  <thead>\n",
       "    <tr style=\"text-align: right;\">\n",
       "      <th></th>\n",
       "      <th>Party</th>\n",
       "      <th>Sector</th>\n",
       "      <th>Year</th>\n",
       "      <th>CO2 emissions (kt)</th>\n",
       "    </tr>\n",
       "  </thead>\n",
       "  <tbody>\n",
       "    <tr>\n",
       "      <th>10</th>\n",
       "      <td>Australia</td>\n",
       "      <td>Energy</td>\n",
       "      <td>2000</td>\n",
       "      <td>326738.2134</td>\n",
       "    </tr>\n",
       "    <tr>\n",
       "      <th>38</th>\n",
       "      <td>Australia</td>\n",
       "      <td>Industrial Processes and Product Use</td>\n",
       "      <td>2000</td>\n",
       "      <td>21727.58414</td>\n",
       "    </tr>\n",
       "    <tr>\n",
       "      <th>66</th>\n",
       "      <td>Australia</td>\n",
       "      <td>Agriculture</td>\n",
       "      <td>2000</td>\n",
       "      <td>1701.121427</td>\n",
       "    </tr>\n",
       "    <tr>\n",
       "      <th>94</th>\n",
       "      <td>Australia</td>\n",
       "      <td>Land Use LandUse Change and Forestry</td>\n",
       "      <td>2000</td>\n",
       "      <td>32667.3159</td>\n",
       "    </tr>\n",
       "    <tr>\n",
       "      <th>122</th>\n",
       "      <td>Australia</td>\n",
       "      <td>Waste</td>\n",
       "      <td>2000</td>\n",
       "      <td>27.6627884</td>\n",
       "    </tr>\n",
       "    <tr>\n",
       "      <th>150</th>\n",
       "      <td>Australia</td>\n",
       "      <td>Other</td>\n",
       "      <td>2000</td>\n",
       "      <td>NO</td>\n",
       "    </tr>\n",
       "  </tbody>\n",
       "</table>\n",
       "</div>"
      ],
      "text/plain": [
       "         Party                                Sector  Year CO2 emissions (kt)\n",
       "10   Australia                                Energy  2000        326738.2134\n",
       "38   Australia  Industrial Processes and Product Use  2000        21727.58414\n",
       "66   Australia                           Agriculture  2000        1701.121427\n",
       "94   Australia  Land Use LandUse Change and Forestry  2000         32667.3159\n",
       "122  Australia                                 Waste  2000         27.6627884\n",
       "150  Australia                                 Other  2000                 NO"
      ]
     },
     "execution_count": 7,
     "metadata": {},
     "output_type": "execute_result"
    }
   ],
   "source": [
    "au2000"
   ]
  },
  {
   "cell_type": "markdown",
   "metadata": {},
   "source": [
    "Okay, looks like the indexes are all different. When you try to subtract one column from another, it's going to figure out which row to subtract from which based on their indexes.\n",
    "\n",
    "There are lots of ways we could do this.\n",
    "\n",
    "1. Reset indexes\n",
    "\n",
    "Fortunately, the `Sector` values are in the same order between the two datasets. We can just re-index both subsets (basically get it to re-number the rows from the top) and it should do the trick. You can read about the pandas reset_index method in their [documentation](https://pandas.pydata.org/pandas-docs/stable/reference/api/pandas.DataFrame.reset_index.html).\n",
    "\n",
    "2. Set the `Sector` column as the index\n",
    "\n",
    "Since we already know that the data in these subsets are all from Australia from a particular year, the column that's really distinguishing the data is the `Sector`. We can set `Sector` as the index with [set_index](https://pandas.pydata.org/pandas-docs/stable/reference/api/pandas.DataFrame.set_index.html)."
   ]
  },
  {
   "cell_type": "code",
   "execution_count": 8,
   "metadata": {},
   "outputs": [],
   "source": [
    "au1990.set_index('Sector', inplace=True)\n",
    "au2000.set_index('Sector', inplace=True)"
   ]
  },
  {
   "cell_type": "code",
   "execution_count": 9,
   "metadata": {},
   "outputs": [
    {
     "data": {
      "text/html": [
       "<div>\n",
       "<style scoped>\n",
       "    .dataframe tbody tr th:only-of-type {\n",
       "        vertical-align: middle;\n",
       "    }\n",
       "\n",
       "    .dataframe tbody tr th {\n",
       "        vertical-align: top;\n",
       "    }\n",
       "\n",
       "    .dataframe thead th {\n",
       "        text-align: right;\n",
       "    }\n",
       "</style>\n",
       "<table border=\"1\" class=\"dataframe\">\n",
       "  <thead>\n",
       "    <tr style=\"text-align: right;\">\n",
       "      <th></th>\n",
       "      <th>Party</th>\n",
       "      <th>Year</th>\n",
       "      <th>CO2 emissions (kt)</th>\n",
       "    </tr>\n",
       "    <tr>\n",
       "      <th>Sector</th>\n",
       "      <th></th>\n",
       "      <th></th>\n",
       "      <th></th>\n",
       "    </tr>\n",
       "  </thead>\n",
       "  <tbody>\n",
       "    <tr>\n",
       "      <th>Energy</th>\n",
       "      <td>Australia</td>\n",
       "      <td>1990</td>\n",
       "      <td>259089.0635</td>\n",
       "    </tr>\n",
       "    <tr>\n",
       "      <th>Industrial Processes and Product Use</th>\n",
       "      <td>Australia</td>\n",
       "      <td>1990</td>\n",
       "      <td>18679.93852</td>\n",
       "    </tr>\n",
       "    <tr>\n",
       "      <th>Agriculture</th>\n",
       "      <td>Australia</td>\n",
       "      <td>1990</td>\n",
       "      <td>582.0132094</td>\n",
       "    </tr>\n",
       "    <tr>\n",
       "      <th>Land Use LandUse Change and Forestry</th>\n",
       "      <td>Australia</td>\n",
       "      <td>1990</td>\n",
       "      <td>165522.8783</td>\n",
       "    </tr>\n",
       "    <tr>\n",
       "      <th>Waste</th>\n",
       "      <td>Australia</td>\n",
       "      <td>1990</td>\n",
       "      <td>73.36044861</td>\n",
       "    </tr>\n",
       "    <tr>\n",
       "      <th>Other</th>\n",
       "      <td>Australia</td>\n",
       "      <td>1990</td>\n",
       "      <td>NO</td>\n",
       "    </tr>\n",
       "  </tbody>\n",
       "</table>\n",
       "</div>"
      ],
      "text/plain": [
       "                                          Party  Year CO2 emissions (kt)\n",
       "Sector                                                                  \n",
       "Energy                                Australia  1990        259089.0635\n",
       "Industrial Processes and Product Use  Australia  1990        18679.93852\n",
       "Agriculture                           Australia  1990        582.0132094\n",
       "Land Use LandUse Change and Forestry  Australia  1990        165522.8783\n",
       "Waste                                 Australia  1990        73.36044861\n",
       "Other                                 Australia  1990                 NO"
      ]
     },
     "execution_count": 9,
     "metadata": {},
     "output_type": "execute_result"
    }
   ],
   "source": [
    "au1990"
   ]
  },
  {
   "cell_type": "code",
   "execution_count": 10,
   "metadata": {},
   "outputs": [
    {
     "data": {
      "text/html": [
       "<div>\n",
       "<style scoped>\n",
       "    .dataframe tbody tr th:only-of-type {\n",
       "        vertical-align: middle;\n",
       "    }\n",
       "\n",
       "    .dataframe tbody tr th {\n",
       "        vertical-align: top;\n",
       "    }\n",
       "\n",
       "    .dataframe thead th {\n",
       "        text-align: right;\n",
       "    }\n",
       "</style>\n",
       "<table border=\"1\" class=\"dataframe\">\n",
       "  <thead>\n",
       "    <tr style=\"text-align: right;\">\n",
       "      <th></th>\n",
       "      <th>Party</th>\n",
       "      <th>Year</th>\n",
       "      <th>CO2 emissions (kt)</th>\n",
       "    </tr>\n",
       "    <tr>\n",
       "      <th>Sector</th>\n",
       "      <th></th>\n",
       "      <th></th>\n",
       "      <th></th>\n",
       "    </tr>\n",
       "  </thead>\n",
       "  <tbody>\n",
       "    <tr>\n",
       "      <th>Energy</th>\n",
       "      <td>Australia</td>\n",
       "      <td>2000</td>\n",
       "      <td>326738.2134</td>\n",
       "    </tr>\n",
       "    <tr>\n",
       "      <th>Industrial Processes and Product Use</th>\n",
       "      <td>Australia</td>\n",
       "      <td>2000</td>\n",
       "      <td>21727.58414</td>\n",
       "    </tr>\n",
       "    <tr>\n",
       "      <th>Agriculture</th>\n",
       "      <td>Australia</td>\n",
       "      <td>2000</td>\n",
       "      <td>1701.121427</td>\n",
       "    </tr>\n",
       "    <tr>\n",
       "      <th>Land Use LandUse Change and Forestry</th>\n",
       "      <td>Australia</td>\n",
       "      <td>2000</td>\n",
       "      <td>32667.3159</td>\n",
       "    </tr>\n",
       "    <tr>\n",
       "      <th>Waste</th>\n",
       "      <td>Australia</td>\n",
       "      <td>2000</td>\n",
       "      <td>27.6627884</td>\n",
       "    </tr>\n",
       "    <tr>\n",
       "      <th>Other</th>\n",
       "      <td>Australia</td>\n",
       "      <td>2000</td>\n",
       "      <td>NO</td>\n",
       "    </tr>\n",
       "  </tbody>\n",
       "</table>\n",
       "</div>"
      ],
      "text/plain": [
       "                                          Party  Year CO2 emissions (kt)\n",
       "Sector                                                                  \n",
       "Energy                                Australia  2000        326738.2134\n",
       "Industrial Processes and Product Use  Australia  2000        21727.58414\n",
       "Agriculture                           Australia  2000        1701.121427\n",
       "Land Use LandUse Change and Forestry  Australia  2000         32667.3159\n",
       "Waste                                 Australia  2000         27.6627884\n",
       "Other                                 Australia  2000                 NO"
      ]
     },
     "execution_count": 10,
     "metadata": {},
     "output_type": "execute_result"
    }
   ],
   "source": [
    "au2000"
   ]
  },
  {
   "cell_type": "markdown",
   "metadata": {},
   "source": [
    "### Cleaning the CO2 emissions column"
   ]
  },
  {
   "cell_type": "markdown",
   "metadata": {},
   "source": [
    "We can now see that the indexes match up - `Energy` is on row 0, `Waste` on row 4 etc. But what's this `'NO'` that we're getting in the `Other` sector? Let's dig a bit deeper by looking at the original data (which is still stored in `df`).\n"
   ]
  },
  {
   "cell_type": "code",
   "execution_count": 11,
   "metadata": {},
   "outputs": [
    {
     "data": {
      "text/html": [
       "<div>\n",
       "<style scoped>\n",
       "    .dataframe tbody tr th:only-of-type {\n",
       "        vertical-align: middle;\n",
       "    }\n",
       "\n",
       "    .dataframe tbody tr th {\n",
       "        vertical-align: top;\n",
       "    }\n",
       "\n",
       "    .dataframe thead th {\n",
       "        text-align: right;\n",
       "    }\n",
       "</style>\n",
       "<table border=\"1\" class=\"dataframe\">\n",
       "  <thead>\n",
       "    <tr style=\"text-align: right;\">\n",
       "      <th></th>\n",
       "      <th>Party</th>\n",
       "      <th>Sector</th>\n",
       "      <th>Year</th>\n",
       "      <th>CO2 emissions (kt)</th>\n",
       "    </tr>\n",
       "  </thead>\n",
       "  <tbody>\n",
       "    <tr>\n",
       "      <th>140</th>\n",
       "      <td>Australia</td>\n",
       "      <td>Other</td>\n",
       "      <td>1990</td>\n",
       "      <td>NO</td>\n",
       "    </tr>\n",
       "    <tr>\n",
       "      <th>141</th>\n",
       "      <td>Australia</td>\n",
       "      <td>Other</td>\n",
       "      <td>1991</td>\n",
       "      <td>NO</td>\n",
       "    </tr>\n",
       "    <tr>\n",
       "      <th>142</th>\n",
       "      <td>Australia</td>\n",
       "      <td>Other</td>\n",
       "      <td>1992</td>\n",
       "      <td>NO</td>\n",
       "    </tr>\n",
       "    <tr>\n",
       "      <th>143</th>\n",
       "      <td>Australia</td>\n",
       "      <td>Other</td>\n",
       "      <td>1993</td>\n",
       "      <td>NO</td>\n",
       "    </tr>\n",
       "    <tr>\n",
       "      <th>144</th>\n",
       "      <td>Australia</td>\n",
       "      <td>Other</td>\n",
       "      <td>1994</td>\n",
       "      <td>NO</td>\n",
       "    </tr>\n",
       "    <tr>\n",
       "      <th>145</th>\n",
       "      <td>Australia</td>\n",
       "      <td>Other</td>\n",
       "      <td>1995</td>\n",
       "      <td>NO</td>\n",
       "    </tr>\n",
       "    <tr>\n",
       "      <th>146</th>\n",
       "      <td>Australia</td>\n",
       "      <td>Other</td>\n",
       "      <td>1996</td>\n",
       "      <td>NO</td>\n",
       "    </tr>\n",
       "    <tr>\n",
       "      <th>147</th>\n",
       "      <td>Australia</td>\n",
       "      <td>Other</td>\n",
       "      <td>1997</td>\n",
       "      <td>NO</td>\n",
       "    </tr>\n",
       "    <tr>\n",
       "      <th>148</th>\n",
       "      <td>Australia</td>\n",
       "      <td>Other</td>\n",
       "      <td>1998</td>\n",
       "      <td>NO</td>\n",
       "    </tr>\n",
       "    <tr>\n",
       "      <th>149</th>\n",
       "      <td>Australia</td>\n",
       "      <td>Other</td>\n",
       "      <td>1999</td>\n",
       "      <td>NO</td>\n",
       "    </tr>\n",
       "    <tr>\n",
       "      <th>150</th>\n",
       "      <td>Australia</td>\n",
       "      <td>Other</td>\n",
       "      <td>2000</td>\n",
       "      <td>NO</td>\n",
       "    </tr>\n",
       "    <tr>\n",
       "      <th>151</th>\n",
       "      <td>Australia</td>\n",
       "      <td>Other</td>\n",
       "      <td>2001</td>\n",
       "      <td>NO</td>\n",
       "    </tr>\n",
       "    <tr>\n",
       "      <th>152</th>\n",
       "      <td>Australia</td>\n",
       "      <td>Other</td>\n",
       "      <td>2002</td>\n",
       "      <td>NO</td>\n",
       "    </tr>\n",
       "    <tr>\n",
       "      <th>153</th>\n",
       "      <td>Australia</td>\n",
       "      <td>Other</td>\n",
       "      <td>2003</td>\n",
       "      <td>NO</td>\n",
       "    </tr>\n",
       "    <tr>\n",
       "      <th>154</th>\n",
       "      <td>Australia</td>\n",
       "      <td>Other</td>\n",
       "      <td>2004</td>\n",
       "      <td>NO</td>\n",
       "    </tr>\n",
       "    <tr>\n",
       "      <th>155</th>\n",
       "      <td>Australia</td>\n",
       "      <td>Other</td>\n",
       "      <td>2005</td>\n",
       "      <td>NO</td>\n",
       "    </tr>\n",
       "    <tr>\n",
       "      <th>156</th>\n",
       "      <td>Australia</td>\n",
       "      <td>Other</td>\n",
       "      <td>2006</td>\n",
       "      <td>NO</td>\n",
       "    </tr>\n",
       "    <tr>\n",
       "      <th>157</th>\n",
       "      <td>Australia</td>\n",
       "      <td>Other</td>\n",
       "      <td>2007</td>\n",
       "      <td>NO</td>\n",
       "    </tr>\n",
       "    <tr>\n",
       "      <th>158</th>\n",
       "      <td>Australia</td>\n",
       "      <td>Other</td>\n",
       "      <td>2008</td>\n",
       "      <td>NO</td>\n",
       "    </tr>\n",
       "    <tr>\n",
       "      <th>159</th>\n",
       "      <td>Australia</td>\n",
       "      <td>Other</td>\n",
       "      <td>2009</td>\n",
       "      <td>NO</td>\n",
       "    </tr>\n",
       "    <tr>\n",
       "      <th>160</th>\n",
       "      <td>Australia</td>\n",
       "      <td>Other</td>\n",
       "      <td>2010</td>\n",
       "      <td>NO</td>\n",
       "    </tr>\n",
       "    <tr>\n",
       "      <th>161</th>\n",
       "      <td>Australia</td>\n",
       "      <td>Other</td>\n",
       "      <td>2011</td>\n",
       "      <td>NO</td>\n",
       "    </tr>\n",
       "    <tr>\n",
       "      <th>162</th>\n",
       "      <td>Australia</td>\n",
       "      <td>Other</td>\n",
       "      <td>2012</td>\n",
       "      <td>NO</td>\n",
       "    </tr>\n",
       "    <tr>\n",
       "      <th>163</th>\n",
       "      <td>Australia</td>\n",
       "      <td>Other</td>\n",
       "      <td>2013</td>\n",
       "      <td>NO</td>\n",
       "    </tr>\n",
       "    <tr>\n",
       "      <th>164</th>\n",
       "      <td>Australia</td>\n",
       "      <td>Other</td>\n",
       "      <td>2014</td>\n",
       "      <td>NO</td>\n",
       "    </tr>\n",
       "    <tr>\n",
       "      <th>165</th>\n",
       "      <td>Australia</td>\n",
       "      <td>Other</td>\n",
       "      <td>2015</td>\n",
       "      <td>NO</td>\n",
       "    </tr>\n",
       "    <tr>\n",
       "      <th>166</th>\n",
       "      <td>Australia</td>\n",
       "      <td>Other</td>\n",
       "      <td>2016</td>\n",
       "      <td>NO</td>\n",
       "    </tr>\n",
       "    <tr>\n",
       "      <th>167</th>\n",
       "      <td>Australia</td>\n",
       "      <td>Other</td>\n",
       "      <td>Last Inventory Year (2017)</td>\n",
       "      <td>NO</td>\n",
       "    </tr>\n",
       "  </tbody>\n",
       "</table>\n",
       "</div>"
      ],
      "text/plain": [
       "         Party Sector                        Year CO2 emissions (kt)\n",
       "140  Australia  Other                        1990                 NO\n",
       "141  Australia  Other                        1991                 NO\n",
       "142  Australia  Other                        1992                 NO\n",
       "143  Australia  Other                        1993                 NO\n",
       "144  Australia  Other                        1994                 NO\n",
       "145  Australia  Other                        1995                 NO\n",
       "146  Australia  Other                        1996                 NO\n",
       "147  Australia  Other                        1997                 NO\n",
       "148  Australia  Other                        1998                 NO\n",
       "149  Australia  Other                        1999                 NO\n",
       "150  Australia  Other                        2000                 NO\n",
       "151  Australia  Other                        2001                 NO\n",
       "152  Australia  Other                        2002                 NO\n",
       "153  Australia  Other                        2003                 NO\n",
       "154  Australia  Other                        2004                 NO\n",
       "155  Australia  Other                        2005                 NO\n",
       "156  Australia  Other                        2006                 NO\n",
       "157  Australia  Other                        2007                 NO\n",
       "158  Australia  Other                        2008                 NO\n",
       "159  Australia  Other                        2009                 NO\n",
       "160  Australia  Other                        2010                 NO\n",
       "161  Australia  Other                        2011                 NO\n",
       "162  Australia  Other                        2012                 NO\n",
       "163  Australia  Other                        2013                 NO\n",
       "164  Australia  Other                        2014                 NO\n",
       "165  Australia  Other                        2015                 NO\n",
       "166  Australia  Other                        2016                 NO\n",
       "167  Australia  Other  Last Inventory Year (2017)                 NO"
      ]
     },
     "execution_count": 11,
     "metadata": {},
     "output_type": "execute_result"
    }
   ],
   "source": [
    "df[(df['Party'] == 'Australia') & (df['Sector'] == 'Other')]"
   ]
  },
  {
   "cell_type": "markdown",
   "metadata": {},
   "source": [
    "Wow, weird! Looks like whoever collected this data, when they didn't have any data for a particular sector (like the `Other` sector in this case), they just typed a string saying `'NO'` in there. That's making it difficult for pandas to interpret the emissions column as a numeric value, because there are letters in there.\n",
    "\n",
    "In data science, we want to be really explicit when there's data missing, so in cases like these we put a `NaN` to tell others that there was no data for this point."
   ]
  },
  {
   "cell_type": "code",
   "execution_count": 12,
   "metadata": {},
   "outputs": [
    {
     "ename": "ValueError",
     "evalue": "cannot index with vector containing NA / NaN values",
     "output_type": "error",
     "traceback": [
      "\u001b[0;31m---------------------------------------------------------------------------\u001b[0m",
      "\u001b[0;31mValueError\u001b[0m                                Traceback (most recent call last)",
      "\u001b[0;32m<ipython-input-12-edfcbb422356>\u001b[0m in \u001b[0;36m<module>\u001b[0;34m\u001b[0m\n\u001b[1;32m      1\u001b[0m \u001b[0;31m# Check if there are any other rows other than Australia/Other that has non-numeric values\u001b[0m\u001b[0;34m\u001b[0m\u001b[0;34m\u001b[0m\u001b[0;34m\u001b[0m\u001b[0m\n\u001b[0;32m----> 2\u001b[0;31m \u001b[0mdf\u001b[0m\u001b[0;34m[\u001b[0m\u001b[0mdf\u001b[0m\u001b[0;34m[\u001b[0m\u001b[0;34m'CO2 emissions (kt)'\u001b[0m\u001b[0;34m]\u001b[0m\u001b[0;34m.\u001b[0m\u001b[0mstr\u001b[0m\u001b[0;34m.\u001b[0m\u001b[0misnumeric\u001b[0m\u001b[0;34m(\u001b[0m\u001b[0;34m)\u001b[0m\u001b[0;34m]\u001b[0m\u001b[0;34m\u001b[0m\u001b[0;34m\u001b[0m\u001b[0m\n\u001b[0m",
      "\u001b[0;32m//anaconda3/lib/python3.7/site-packages/pandas/core/frame.py\u001b[0m in \u001b[0;36m__getitem__\u001b[0;34m(self, key)\u001b[0m\n\u001b[1;32m   2983\u001b[0m \u001b[0;34m\u001b[0m\u001b[0m\n\u001b[1;32m   2984\u001b[0m         \u001b[0;31m# Do we have a (boolean) 1d indexer?\u001b[0m\u001b[0;34m\u001b[0m\u001b[0;34m\u001b[0m\u001b[0;34m\u001b[0m\u001b[0m\n\u001b[0;32m-> 2985\u001b[0;31m         \u001b[0;32mif\u001b[0m \u001b[0mcom\u001b[0m\u001b[0;34m.\u001b[0m\u001b[0mis_bool_indexer\u001b[0m\u001b[0;34m(\u001b[0m\u001b[0mkey\u001b[0m\u001b[0;34m)\u001b[0m\u001b[0;34m:\u001b[0m\u001b[0;34m\u001b[0m\u001b[0;34m\u001b[0m\u001b[0m\n\u001b[0m\u001b[1;32m   2986\u001b[0m             \u001b[0;32mreturn\u001b[0m \u001b[0mself\u001b[0m\u001b[0;34m.\u001b[0m\u001b[0m_getitem_bool_array\u001b[0m\u001b[0;34m(\u001b[0m\u001b[0mkey\u001b[0m\u001b[0;34m)\u001b[0m\u001b[0;34m\u001b[0m\u001b[0;34m\u001b[0m\u001b[0m\n\u001b[1;32m   2987\u001b[0m \u001b[0;34m\u001b[0m\u001b[0m\n",
      "\u001b[0;32m//anaconda3/lib/python3.7/site-packages/pandas/core/common.py\u001b[0m in \u001b[0;36mis_bool_indexer\u001b[0;34m(key)\u001b[0m\n\u001b[1;32m    128\u001b[0m             \u001b[0;32mif\u001b[0m \u001b[0;32mnot\u001b[0m \u001b[0mlib\u001b[0m\u001b[0;34m.\u001b[0m\u001b[0mis_bool_array\u001b[0m\u001b[0;34m(\u001b[0m\u001b[0mkey\u001b[0m\u001b[0;34m)\u001b[0m\u001b[0;34m:\u001b[0m\u001b[0;34m\u001b[0m\u001b[0;34m\u001b[0m\u001b[0m\n\u001b[1;32m    129\u001b[0m                 \u001b[0;32mif\u001b[0m \u001b[0misna\u001b[0m\u001b[0;34m(\u001b[0m\u001b[0mkey\u001b[0m\u001b[0;34m)\u001b[0m\u001b[0;34m.\u001b[0m\u001b[0many\u001b[0m\u001b[0;34m(\u001b[0m\u001b[0;34m)\u001b[0m\u001b[0;34m:\u001b[0m\u001b[0;34m\u001b[0m\u001b[0;34m\u001b[0m\u001b[0m\n\u001b[0;32m--> 130\u001b[0;31m                     \u001b[0;32mraise\u001b[0m \u001b[0mValueError\u001b[0m\u001b[0;34m(\u001b[0m\u001b[0mna_msg\u001b[0m\u001b[0;34m)\u001b[0m\u001b[0;34m\u001b[0m\u001b[0;34m\u001b[0m\u001b[0m\n\u001b[0m\u001b[1;32m    131\u001b[0m                 \u001b[0;32mreturn\u001b[0m \u001b[0;32mFalse\u001b[0m\u001b[0;34m\u001b[0m\u001b[0;34m\u001b[0m\u001b[0m\n\u001b[1;32m    132\u001b[0m             \u001b[0;32mreturn\u001b[0m \u001b[0;32mTrue\u001b[0m\u001b[0;34m\u001b[0m\u001b[0;34m\u001b[0m\u001b[0m\n",
      "\u001b[0;31mValueError\u001b[0m: cannot index with vector containing NA / NaN values"
     ]
    }
   ],
   "source": [
    "# Check if there are any other rows other than Australia/Other that has non-numeric values\n",
    "df[df['CO2 emissions (kt)'].str.isnumeric()]"
   ]
  },
  {
   "cell_type": "markdown",
   "metadata": {},
   "source": [
    "Ugh, there are some NaNs in the emissions column too. Since it's \"not a number\", pandas can't say for sure whether it is numeric or not, so it just returns an error. Looks like the CO2 emissions column needs a bit of work."
   ]
  },
  {
   "cell_type": "code",
   "execution_count": 13,
   "metadata": {},
   "outputs": [],
   "source": [
    "# For each row, try coercing it into a `float` type.\n",
    "# If it fails, then fill it with `None` so that we know it's purposefully empty - there was no data there in the first place.\n",
    "# This will be turned into `NaN` by pandas.\n",
    "def validate_numeric(x):\n",
    "    try:\n",
    "        x = pd.to_numeric(x)\n",
    "    except: \n",
    "        x = None\n",
    "    return x\n",
    "\n",
    "df['CO2 emissions (kt)'] = df['CO2 emissions (kt)'].map(validate_numeric)"
   ]
  },
  {
   "cell_type": "code",
   "execution_count": 14,
   "metadata": {},
   "outputs": [
    {
     "data": {
      "text/plain": [
       "0       259089.0635\n",
       "1       261077.8943\n",
       "2       265636.3056\n",
       "3       269692.6933\n",
       "4       272493.5233\n",
       "           ...     \n",
       "7415            NaN\n",
       "7416            NaN\n",
       "7417            NaN\n",
       "7418            NaN\n",
       "7419            NaN\n",
       "Name: CO2 emissions (kt), Length: 7420, dtype: float64"
      ]
     },
     "execution_count": 14,
     "metadata": {},
     "output_type": "execute_result"
    }
   ],
   "source": [
    "df['CO2 emissions (kt)']"
   ]
  },
  {
   "cell_type": "markdown",
   "metadata": {},
   "source": [
    "Sweet, that looks pretty good! Maybe we should check explicitly to see if all the `'NO'` values are gone."
   ]
  },
  {
   "cell_type": "code",
   "execution_count": 15,
   "metadata": {},
   "outputs": [
    {
     "name": "stderr",
     "output_type": "stream",
     "text": [
      "//anaconda3/lib/python3.7/site-packages/pandas/core/ops/__init__.py:1115: FutureWarning: elementwise comparison failed; returning scalar instead, but in the future will perform elementwise comparison\n",
      "  result = method(y)\n"
     ]
    }
   ],
   "source": [
    "# This assert method throws an error if the condition inside it is False.\n",
    "# Here, we're checking that the number of rows where CO2 emissions is 'NO' is 0.\n",
    "rows_with_co2_emissions_as_NO = df[df['CO2 emissions (kt)'] == 'NO']\n",
    "number_of_rows_with_co2_emissions_as_NO = len(rows_with_co2_emissions_as_NO)\n",
    "assert(number_of_rows_with_co2_emissions_as_NO == 0)\n",
    "\n",
    "# That's a bit long and verbose, we could do it in one line without giving up too much readability:\n",
    "assert(len(df[df['CO2 emissions (kt)'] == 'NO']) == 0)\n",
    "# No errors = Yeap, all the 'NO's are gone!"
   ]
  },
  {
   "cell_type": "markdown",
   "metadata": {},
   "source": [
    "### Cleaning the 'Year' column\n",
    "\n",
    "We're almost done, but I noticed something when I had a flick through the raw CSV file. I noticed that the last year for each sector (2017) always had this big string that said `'Last Inventory Year (2017)'` instead of just the number `2017`. We'll have to clean the data a bit to get rid of that if we want to be able to use the data from 2017."
   ]
  },
  {
   "cell_type": "code",
   "execution_count": 16,
   "metadata": {},
   "outputs": [
    {
     "data": {
      "text/plain": [
       "1990                          265\n",
       "1991                          265\n",
       "1992                          265\n",
       "1993                          265\n",
       "1994                          265\n",
       "1995                          265\n",
       "1996                          265\n",
       "1997                          265\n",
       "1998                          265\n",
       "1999                          265\n",
       "2000                          265\n",
       "2001                          265\n",
       "2002                          265\n",
       "2003                          265\n",
       "2004                          265\n",
       "2005                          265\n",
       "2006                          265\n",
       "2007                          265\n",
       "2008                          265\n",
       "2009                          265\n",
       "2010                          265\n",
       "2011                          265\n",
       "2012                          265\n",
       "2013                          265\n",
       "2014                          265\n",
       "2015                          265\n",
       "2016                          265\n",
       "Last Inventory Year (2017)    265\n",
       "Name: Year, dtype: int64"
      ]
     },
     "execution_count": 16,
     "metadata": {},
     "output_type": "execute_result"
    }
   ],
   "source": [
    "# We have a nice dataset of 275 data points per year for all the years.\n",
    "# The only gross bit is that the name of theyear `2017` is a big long string rather than just the number like all the others.\n",
    "df['Year'].value_counts().sort_index()"
   ]
  },
  {
   "cell_type": "code",
   "execution_count": 17,
   "metadata": {},
   "outputs": [],
   "source": [
    "# Replace weird last year string with the number `2017`\n",
    "df['Year'].replace(to_replace='Last Inventory Year (2017)', value='2017', inplace=True)"
   ]
  },
  {
   "cell_type": "markdown",
   "metadata": {},
   "source": [
    "### Validating your results"
   ]
  },
  {
   "cell_type": "code",
   "execution_count": 18,
   "metadata": {},
   "outputs": [
    {
     "data": {
      "text/plain": [
       "Sector\n",
       "Energy                                   67649.149900\n",
       "Industrial Processes and Product Use      3047.645620\n",
       "Agriculture                               1119.108218\n",
       "Land Use LandUse Change and Forestry   -132855.562400\n",
       "Waste                                      -45.697660\n",
       "Other                                             NaN\n",
       "Name: CO2 emissions (kt), dtype: float64"
      ]
     },
     "execution_count": 18,
     "metadata": {},
     "output_type": "execute_result"
    }
   ],
   "source": [
    "# Make the subsets again from the cleaned data, reset the indexes, and try the subtraction again\n",
    "au1990 = df[(df['Party'] == 'Australia') & (df['Year'] == '1990')]\n",
    "au2000 = df[(df['Party'] == 'Australia') & (df['Year'] == '2000')]\n",
    "au1990.set_index('Sector', inplace=True)\n",
    "au2000.set_index('Sector', inplace=True)\n",
    "\n",
    "au_1990_2000_diff = au2000['CO2 emissions (kt)'] - au1990['CO2 emissions (kt)']\n",
    "au_1990_2000_diff"
   ]
  },
  {
   "cell_type": "markdown",
   "metadata": {},
   "source": [
    "Yay, it works! We've got that `NaN` in the last row because that's for the `Other` sector, which didn't have any data (just the weird `'NO'` values).\n",
    "\n",
    "Maybe we should add a quick test to check that the numbers are correct. Let's check that the difference in the `Energy` sector is indeed equal to the value from 2000 minus the value from 1990."
   ]
  },
  {
   "cell_type": "code",
   "execution_count": 19,
   "metadata": {},
   "outputs": [
    {
     "data": {
      "text/html": [
       "<div>\n",
       "<style scoped>\n",
       "    .dataframe tbody tr th:only-of-type {\n",
       "        vertical-align: middle;\n",
       "    }\n",
       "\n",
       "    .dataframe tbody tr th {\n",
       "        vertical-align: top;\n",
       "    }\n",
       "\n",
       "    .dataframe thead th {\n",
       "        text-align: right;\n",
       "    }\n",
       "</style>\n",
       "<table border=\"1\" class=\"dataframe\">\n",
       "  <thead>\n",
       "    <tr style=\"text-align: right;\">\n",
       "      <th></th>\n",
       "      <th>Party</th>\n",
       "      <th>Year</th>\n",
       "      <th>CO2 emissions (kt)</th>\n",
       "    </tr>\n",
       "    <tr>\n",
       "      <th>Sector</th>\n",
       "      <th></th>\n",
       "      <th></th>\n",
       "      <th></th>\n",
       "    </tr>\n",
       "  </thead>\n",
       "  <tbody>\n",
       "    <tr>\n",
       "      <th>Energy</th>\n",
       "      <td>Australia</td>\n",
       "      <td>1990</td>\n",
       "      <td>259089.063500</td>\n",
       "    </tr>\n",
       "    <tr>\n",
       "      <th>Industrial Processes and Product Use</th>\n",
       "      <td>Australia</td>\n",
       "      <td>1990</td>\n",
       "      <td>18679.938520</td>\n",
       "    </tr>\n",
       "    <tr>\n",
       "      <th>Agriculture</th>\n",
       "      <td>Australia</td>\n",
       "      <td>1990</td>\n",
       "      <td>582.013209</td>\n",
       "    </tr>\n",
       "    <tr>\n",
       "      <th>Land Use LandUse Change and Forestry</th>\n",
       "      <td>Australia</td>\n",
       "      <td>1990</td>\n",
       "      <td>165522.878300</td>\n",
       "    </tr>\n",
       "    <tr>\n",
       "      <th>Waste</th>\n",
       "      <td>Australia</td>\n",
       "      <td>1990</td>\n",
       "      <td>73.360449</td>\n",
       "    </tr>\n",
       "    <tr>\n",
       "      <th>Other</th>\n",
       "      <td>Australia</td>\n",
       "      <td>1990</td>\n",
       "      <td>NaN</td>\n",
       "    </tr>\n",
       "  </tbody>\n",
       "</table>\n",
       "</div>"
      ],
      "text/plain": [
       "                                          Party  Year  CO2 emissions (kt)\n",
       "Sector                                                                   \n",
       "Energy                                Australia  1990       259089.063500\n",
       "Industrial Processes and Product Use  Australia  1990        18679.938520\n",
       "Agriculture                           Australia  1990          582.013209\n",
       "Land Use LandUse Change and Forestry  Australia  1990       165522.878300\n",
       "Waste                                 Australia  1990           73.360449\n",
       "Other                                 Australia  1990                 NaN"
      ]
     },
     "execution_count": 19,
     "metadata": {},
     "output_type": "execute_result"
    }
   ],
   "source": [
    "au1990"
   ]
  },
  {
   "cell_type": "code",
   "execution_count": 20,
   "metadata": {},
   "outputs": [
    {
     "data": {
      "text/plain": [
       "259089.0635"
      ]
     },
     "execution_count": 20,
     "metadata": {},
     "output_type": "execute_result"
    }
   ],
   "source": [
    "au1990_energy = au1990.loc['Energy', 'CO2 emissions (kt)']\n",
    "au1990_energy"
   ]
  },
  {
   "cell_type": "code",
   "execution_count": 21,
   "metadata": {},
   "outputs": [
    {
     "data": {
      "text/html": [
       "<div>\n",
       "<style scoped>\n",
       "    .dataframe tbody tr th:only-of-type {\n",
       "        vertical-align: middle;\n",
       "    }\n",
       "\n",
       "    .dataframe tbody tr th {\n",
       "        vertical-align: top;\n",
       "    }\n",
       "\n",
       "    .dataframe thead th {\n",
       "        text-align: right;\n",
       "    }\n",
       "</style>\n",
       "<table border=\"1\" class=\"dataframe\">\n",
       "  <thead>\n",
       "    <tr style=\"text-align: right;\">\n",
       "      <th></th>\n",
       "      <th>Party</th>\n",
       "      <th>Year</th>\n",
       "      <th>CO2 emissions (kt)</th>\n",
       "    </tr>\n",
       "    <tr>\n",
       "      <th>Sector</th>\n",
       "      <th></th>\n",
       "      <th></th>\n",
       "      <th></th>\n",
       "    </tr>\n",
       "  </thead>\n",
       "  <tbody>\n",
       "    <tr>\n",
       "      <th>Energy</th>\n",
       "      <td>Australia</td>\n",
       "      <td>2000</td>\n",
       "      <td>326738.213400</td>\n",
       "    </tr>\n",
       "    <tr>\n",
       "      <th>Industrial Processes and Product Use</th>\n",
       "      <td>Australia</td>\n",
       "      <td>2000</td>\n",
       "      <td>21727.584140</td>\n",
       "    </tr>\n",
       "    <tr>\n",
       "      <th>Agriculture</th>\n",
       "      <td>Australia</td>\n",
       "      <td>2000</td>\n",
       "      <td>1701.121427</td>\n",
       "    </tr>\n",
       "    <tr>\n",
       "      <th>Land Use LandUse Change and Forestry</th>\n",
       "      <td>Australia</td>\n",
       "      <td>2000</td>\n",
       "      <td>32667.315900</td>\n",
       "    </tr>\n",
       "    <tr>\n",
       "      <th>Waste</th>\n",
       "      <td>Australia</td>\n",
       "      <td>2000</td>\n",
       "      <td>27.662788</td>\n",
       "    </tr>\n",
       "    <tr>\n",
       "      <th>Other</th>\n",
       "      <td>Australia</td>\n",
       "      <td>2000</td>\n",
       "      <td>NaN</td>\n",
       "    </tr>\n",
       "  </tbody>\n",
       "</table>\n",
       "</div>"
      ],
      "text/plain": [
       "                                          Party  Year  CO2 emissions (kt)\n",
       "Sector                                                                   \n",
       "Energy                                Australia  2000       326738.213400\n",
       "Industrial Processes and Product Use  Australia  2000        21727.584140\n",
       "Agriculture                           Australia  2000         1701.121427\n",
       "Land Use LandUse Change and Forestry  Australia  2000        32667.315900\n",
       "Waste                                 Australia  2000           27.662788\n",
       "Other                                 Australia  2000                 NaN"
      ]
     },
     "execution_count": 21,
     "metadata": {},
     "output_type": "execute_result"
    }
   ],
   "source": [
    "au2000"
   ]
  },
  {
   "cell_type": "code",
   "execution_count": 22,
   "metadata": {},
   "outputs": [
    {
     "data": {
      "text/plain": [
       "326738.2134"
      ]
     },
     "execution_count": 22,
     "metadata": {},
     "output_type": "execute_result"
    }
   ],
   "source": [
    "au2000_energy = au2000.loc['Energy', 'CO2 emissions (kt)']\n",
    "au2000_energy"
   ]
  },
  {
   "cell_type": "code",
   "execution_count": 23,
   "metadata": {},
   "outputs": [],
   "source": [
    "# No error = assertion passed!\n",
    "assert(au2000_energy - au1990_energy == au_1990_2000_diff['Energy'])"
   ]
  },
  {
   "cell_type": "markdown",
   "metadata": {},
   "source": [
    "## Putting it all together\n",
    "\n",
    "You will have noticed that there was a fair bit of repetition as we went through the data and found dirty bits that we had to clean. Let's put what we've done into functions so that we can re-use them easily without re-writing code."
   ]
  },
  {
   "cell_type": "code",
   "execution_count": 24,
   "metadata": {},
   "outputs": [],
   "source": [
    "def validate_numeric(x):\n",
    "    try:\n",
    "        x = pd.to_numeric(x)\n",
    "    except: \n",
    "        x = None\n",
    "    return x"
   ]
  },
  {
   "cell_type": "code",
   "execution_count": 25,
   "metadata": {},
   "outputs": [],
   "source": [
    "def clean_ghg_data(df):\n",
    "    df['CO2 emissions (kt)'] = df['CO2 emissions (kt)'].map(validate_numeric)\n",
    "    df['Year'].replace(to_replace='Last Inventory Year (2017)', value=2017, inplace=True)\n",
    "    return df"
   ]
  },
  {
   "cell_type": "code",
   "execution_count": 26,
   "metadata": {},
   "outputs": [],
   "source": [
    "def get_data_for_country_and_year(df, country, year):\n",
    "    data = df[(df['Party'] == country) & (df['Year'] == year)]\n",
    "    data.set_index('Sector', inplace=True)\n",
    "    return data"
   ]
  },
  {
   "cell_type": "code",
   "execution_count": 27,
   "metadata": {},
   "outputs": [],
   "source": [
    "def get_net_co2_difference(start_df, end_df):\n",
    "    return start_df['CO2 emissions (kt)'] - end_df['CO2 emissions (kt)']"
   ]
  },
  {
   "cell_type": "code",
   "execution_count": 28,
   "metadata": {},
   "outputs": [],
   "source": [
    "# From the top!\n",
    "df = pd.read_csv('Annual_GHG_data_reshaped.csv', index_col=0)"
   ]
  },
  {
   "cell_type": "code",
   "execution_count": 29,
   "metadata": {},
   "outputs": [],
   "source": [
    "df = clean_ghg_data(df)"
   ]
  },
  {
   "cell_type": "code",
   "execution_count": 30,
   "metadata": {},
   "outputs": [
    {
     "data": {
      "text/html": [
       "<div>\n",
       "<style scoped>\n",
       "    .dataframe tbody tr th:only-of-type {\n",
       "        vertical-align: middle;\n",
       "    }\n",
       "\n",
       "    .dataframe tbody tr th {\n",
       "        vertical-align: top;\n",
       "    }\n",
       "\n",
       "    .dataframe thead th {\n",
       "        text-align: right;\n",
       "    }\n",
       "</style>\n",
       "<table border=\"1\" class=\"dataframe\">\n",
       "  <thead>\n",
       "    <tr style=\"text-align: right;\">\n",
       "      <th></th>\n",
       "      <th>Party</th>\n",
       "      <th>Year</th>\n",
       "      <th>CO2 emissions (kt)</th>\n",
       "    </tr>\n",
       "    <tr>\n",
       "      <th>Sector</th>\n",
       "      <th></th>\n",
       "      <th></th>\n",
       "      <th></th>\n",
       "    </tr>\n",
       "  </thead>\n",
       "  <tbody>\n",
       "    <tr>\n",
       "      <th>Energy</th>\n",
       "      <td>Australia</td>\n",
       "      <td>1990</td>\n",
       "      <td>259089.063500</td>\n",
       "    </tr>\n",
       "    <tr>\n",
       "      <th>Industrial Processes and Product Use</th>\n",
       "      <td>Australia</td>\n",
       "      <td>1990</td>\n",
       "      <td>18679.938520</td>\n",
       "    </tr>\n",
       "    <tr>\n",
       "      <th>Agriculture</th>\n",
       "      <td>Australia</td>\n",
       "      <td>1990</td>\n",
       "      <td>582.013209</td>\n",
       "    </tr>\n",
       "    <tr>\n",
       "      <th>Land Use LandUse Change and Forestry</th>\n",
       "      <td>Australia</td>\n",
       "      <td>1990</td>\n",
       "      <td>165522.878300</td>\n",
       "    </tr>\n",
       "    <tr>\n",
       "      <th>Waste</th>\n",
       "      <td>Australia</td>\n",
       "      <td>1990</td>\n",
       "      <td>73.360449</td>\n",
       "    </tr>\n",
       "    <tr>\n",
       "      <th>Other</th>\n",
       "      <td>Australia</td>\n",
       "      <td>1990</td>\n",
       "      <td>NaN</td>\n",
       "    </tr>\n",
       "  </tbody>\n",
       "</table>\n",
       "</div>"
      ],
      "text/plain": [
       "                                          Party  Year  CO2 emissions (kt)\n",
       "Sector                                                                   \n",
       "Energy                                Australia  1990       259089.063500\n",
       "Industrial Processes and Product Use  Australia  1990        18679.938520\n",
       "Agriculture                           Australia  1990          582.013209\n",
       "Land Use LandUse Change and Forestry  Australia  1990       165522.878300\n",
       "Waste                                 Australia  1990           73.360449\n",
       "Other                                 Australia  1990                 NaN"
      ]
     },
     "execution_count": 30,
     "metadata": {},
     "output_type": "execute_result"
    }
   ],
   "source": [
    "au1990 = get_data_for_country_and_year(df, 'Australia', '1990')\n",
    "au1990"
   ]
  },
  {
   "cell_type": "code",
   "execution_count": 31,
   "metadata": {},
   "outputs": [
    {
     "data": {
      "text/html": [
       "<div>\n",
       "<style scoped>\n",
       "    .dataframe tbody tr th:only-of-type {\n",
       "        vertical-align: middle;\n",
       "    }\n",
       "\n",
       "    .dataframe tbody tr th {\n",
       "        vertical-align: top;\n",
       "    }\n",
       "\n",
       "    .dataframe thead th {\n",
       "        text-align: right;\n",
       "    }\n",
       "</style>\n",
       "<table border=\"1\" class=\"dataframe\">\n",
       "  <thead>\n",
       "    <tr style=\"text-align: right;\">\n",
       "      <th></th>\n",
       "      <th>Party</th>\n",
       "      <th>Year</th>\n",
       "      <th>CO2 emissions (kt)</th>\n",
       "    </tr>\n",
       "    <tr>\n",
       "      <th>Sector</th>\n",
       "      <th></th>\n",
       "      <th></th>\n",
       "      <th></th>\n",
       "    </tr>\n",
       "  </thead>\n",
       "  <tbody>\n",
       "    <tr>\n",
       "      <th>Energy</th>\n",
       "      <td>Australia</td>\n",
       "      <td>2000</td>\n",
       "      <td>326738.213400</td>\n",
       "    </tr>\n",
       "    <tr>\n",
       "      <th>Industrial Processes and Product Use</th>\n",
       "      <td>Australia</td>\n",
       "      <td>2000</td>\n",
       "      <td>21727.584140</td>\n",
       "    </tr>\n",
       "    <tr>\n",
       "      <th>Agriculture</th>\n",
       "      <td>Australia</td>\n",
       "      <td>2000</td>\n",
       "      <td>1701.121427</td>\n",
       "    </tr>\n",
       "    <tr>\n",
       "      <th>Land Use LandUse Change and Forestry</th>\n",
       "      <td>Australia</td>\n",
       "      <td>2000</td>\n",
       "      <td>32667.315900</td>\n",
       "    </tr>\n",
       "    <tr>\n",
       "      <th>Waste</th>\n",
       "      <td>Australia</td>\n",
       "      <td>2000</td>\n",
       "      <td>27.662788</td>\n",
       "    </tr>\n",
       "    <tr>\n",
       "      <th>Other</th>\n",
       "      <td>Australia</td>\n",
       "      <td>2000</td>\n",
       "      <td>NaN</td>\n",
       "    </tr>\n",
       "  </tbody>\n",
       "</table>\n",
       "</div>"
      ],
      "text/plain": [
       "                                          Party  Year  CO2 emissions (kt)\n",
       "Sector                                                                   \n",
       "Energy                                Australia  2000       326738.213400\n",
       "Industrial Processes and Product Use  Australia  2000        21727.584140\n",
       "Agriculture                           Australia  2000         1701.121427\n",
       "Land Use LandUse Change and Forestry  Australia  2000        32667.315900\n",
       "Waste                                 Australia  2000           27.662788\n",
       "Other                                 Australia  2000                 NaN"
      ]
     },
     "execution_count": 31,
     "metadata": {},
     "output_type": "execute_result"
    }
   ],
   "source": [
    "au2000 = get_data_for_country_and_year(df, 'Australia', '2000')\n",
    "au2000"
   ]
  },
  {
   "cell_type": "code",
   "execution_count": 32,
   "metadata": {},
   "outputs": [
    {
     "data": {
      "text/plain": [
       "Sector\n",
       "Energy                                  -67649.149900\n",
       "Industrial Processes and Product Use     -3047.645620\n",
       "Agriculture                              -1119.108218\n",
       "Land Use LandUse Change and Forestry    132855.562400\n",
       "Waste                                       45.697660\n",
       "Other                                             NaN\n",
       "Name: CO2 emissions (kt), dtype: float64"
      ]
     },
     "execution_count": 32,
     "metadata": {},
     "output_type": "execute_result"
    }
   ],
   "source": [
    "get_net_co2_difference(au1990, au2000)"
   ]
  },
  {
   "cell_type": "markdown",
   "metadata": {},
   "source": [
    "# User interaction\n",
    "\n",
    "We've got these neat functions which already take the country and year as inputs. It would only take a little more work to be able to ask the user for these. Something like the stuff below, in a Python script (a file with `.py` on the end), would be a (very simple and not-very-user-friendly) MVP version of such an interactive tool."
   ]
  },
  {
   "cell_type": "code",
   "execution_count": 34,
   "metadata": {},
   "outputs": [
    {
     "name": "stdout",
     "output_type": "stream",
     "text": [
      "*** Net CO2 emissions difference calculator ***\n",
      "Enter a country: Australia\n",
      "Enter start year (between 1990 and 2017 inclusive): 1992\n",
      "Enter end year (between 1990 and 2017 inclusive): 2012\n",
      "*** Results for Australia between 1992-2012 ***\n"
     ]
    },
    {
     "data": {
      "text/plain": [
       "Sector\n",
       "Energy                                 -117873.768900\n",
       "Industrial Processes and Product Use     -2889.502310\n",
       "Agriculture                              -1355.262504\n",
       "Land Use LandUse Change and Forestry     78572.831121\n",
       "Waste                                       43.673097\n",
       "Other                                             NaN\n",
       "Name: CO2 emissions (kt), dtype: float64"
      ]
     },
     "execution_count": 34,
     "metadata": {},
     "output_type": "execute_result"
    }
   ],
   "source": [
    "df = pd.read_csv('https://raw.githubusercontent.com/jennynz/co2-emissions/master/annual_ghg_data.csv', index_col=0)\n",
    "df = clean_ghg_data(df)\n",
    "\n",
    "print('*** Net CO2 emissions difference calculator ***')\n",
    "country = input('Enter a country: ') # e.g. Australia\n",
    "start_year = input('Enter start year (between 1990 and 2017 inclusive): ') # e.g. 1990\n",
    "end_year = input('Enter end year (between 1990 and 2017 inclusive): ') # e.g. 2000\n",
    "\n",
    "# Some examples of checks you could do to stop users from entering inputs that won't work\n",
    "\n",
    "# country_list = [str.lower(country) for country in df['Party'].unique()]\n",
    "# assert(country in df['Party'].unique(), 'Country name not valid')\n",
    "# assert(type(start_year) == int, 'Year must be an integer')\n",
    "# assert(type(end_year) == int, 'Year must be an integer')\n",
    "# assert((start_year >= 1990) & (start_year <= 2016), 'Please enter a year between 1990 and 2017 inclusive.')\n",
    "# assert((start_year >= 1991) & (start_year <= 2017), 'Please enter a year between 1990 and 2017 inclusive.')\n",
    "# assert(start_year < end_year, 'Start year must be before end year')\n",
    "\n",
    "start = get_data_for_country_and_year(df, country, start_year)\n",
    "end = get_data_for_country_and_year(df, country, end_year)\n",
    "\n",
    "print(f'\\n*** Results for {country} between {start_year}-{end_year} ***')\n",
    "get_net_co2_difference(start, end)"
   ]
  },
  {
   "cell_type": "markdown",
   "metadata": {},
   "source": [
    "# Plots for years in given range\n",
    "\n",
    "Instead of just getting certain years, pandas makes it easy to do bulk operations on a whole lot of rows of data.\n",
    "You could modify/add to the code above to get it to return all the years (maybe within a range that the user inputs) and sectors (maybe also input/checkboxed depending on what the user wants) for a given country, and then plot that on a line graph with different colours for each sector.\n",
    "\n",
    "The same would be possible for comparing countries for the same sector (e.g. compare how CO2 emissions have changed across time for Australia vs New Zealand vs USA, in the Energy sector)."
   ]
  }
 ],
 "metadata": {
  "kernelspec": {
   "display_name": "Python 3",
   "language": "python",
   "name": "python3"
  },
  "language_info": {
   "codemirror_mode": {
    "name": "ipython",
    "version": 3
   },
   "file_extension": ".py",
   "mimetype": "text/x-python",
   "name": "python",
   "nbconvert_exporter": "python",
   "pygments_lexer": "ipython3",
   "version": "3.7.3"
  }
 },
 "nbformat": 4,
 "nbformat_minor": 2
}